{
 "cells": [
  {
   "cell_type": "code",
   "execution_count": null,
   "id": "01a1d56a",
   "metadata": {
    "vscode": {
     "languageId": "plaintext"
    }
   },
   "outputs": [],
   "source": [
    "import psycopg2"
   ]
  },
  {
   "cell_type": "code",
   "execution_count": null,
   "id": "c55921e0",
   "metadata": {
    "vscode": {
     "languageId": "plaintext"
    }
   },
   "outputs": [],
   "source": [
    "host = \"dpg-d10qkg3e5dus73ajo0og-a.frankfurt-postgres.render.com\"\n",
    "port = \"5432\"\n",
    "dbname = \"base_de_datos_relacional_the_bridge\"\n",
    "username = \"base_de_datos_relacional_the_bridge_user\"\n",
    "pswd = \"2MyeVVUd0ZBuaeTXQMEtcwx6rkkVCXst\"\n",
    "\n",
    "\n",
    "\n",
    "conn = psycopg2.connect(\n",
    "host = host, port = port, dbname = dbname, user=username, password=pswd)\n",
    "\n"
   ]
  },
  {
   "cell_type": "code",
   "execution_count": null,
   "id": "86409eac",
   "metadata": {
    "vscode": {
     "languageId": "plaintext"
    }
   },
   "outputs": [],
   "source": [
    "cursor = conn.cursor()"
   ]
  }
 ],
 "metadata": {
  "language_info": {
   "name": "python"
  }
 },
 "nbformat": 4,
 "nbformat_minor": 5
}
